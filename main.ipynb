{
 "cells": [
  {
   "cell_type": "code",
   "execution_count": 38,
   "metadata": {},
   "outputs": [],
   "source": [
    "import os\n",
    "import pandas as pd\n",
    "import re"
   ]
  },
  {
   "cell_type": "code",
   "execution_count": 56,
   "metadata": {},
   "outputs": [],
   "source": [
    "def extract_snippet_from_file(file, start_line, start_col, end_line, end_col):\n",
    "    with open(file, 'r') as f:\n",
    "        file_content = f.readlines()\n",
    "\n",
    "    snippet = \"\"\n",
    "\n",
    "    if start_line == end_line:\n",
    "        # add the section of the line (specific)\n",
    "        snippet = file_content[start_line-1][start_col-1 : end_col]\n",
    "    else:\n",
    "        # read first line\n",
    "        snippet = file_content[start_line-1][start_col-1:]\n",
    "        for i in range(start_line, end_line-1):\n",
    "            # add entire line\n",
    "            snippet += file_content[i]\n",
    "        # add final line\n",
    "        snippet += file_content[end_line-1][:end_col]\n",
    "    \n",
    "    # get file name by removing the part of path before\n",
    "    file_name = re.search(r'([^/]+)$', file).group(0)\n",
    "    \n",
    "    return pd.DataFrame([{'file': file_name, 'snippet': snippet}])\n",
    "    \n",
    "    "
   ]
  },
  {
   "cell_type": "code",
   "execution_count": 57,
   "metadata": {},
   "outputs": [],
   "source": [
    "def extract_vuln_code(file):\n",
    "    # read file\n",
    "    with open(file, 'r') as f:\n",
    "        file_content = f.readlines()\n",
    "\n",
    "    # go to VULNERABLE LINE line\n",
    "    for line in file_content:\n",
    "        if \"↓↓↓VULNERABLE LINES↓↓↓\" in line:\n",
    "            break\n",
    "\n",
    "    # parse each line pointing to snippet\n",
    "    vuln_pattern = re.compile(r'\\s*//\\s*(\\d+),(\\d+);(\\d+),(\\d+)')\n",
    "    snippets = []\n",
    "\n",
    "    # call extract snippet function\n",
    "    for line in file_content:\n",
    "        match = vuln_pattern.search(line)\n",
    "        if match:\n",
    "            start_line, start_col, end_line, end_col = map(int, match.groups())\n",
    "            # each snippet is a dataframe\n",
    "            snippet = extract_snippet_from_file(file, start_line, start_col, end_line, end_col)\n",
    "            snippets.append(snippet)\n",
    "\n",
    "    return snippets # list of dataframes"
   ]
  },
  {
   "cell_type": "code",
   "execution_count": null,
   "metadata": {},
   "outputs": [
    {
     "name": "stdout",
     "output_type": "stream",
     "text": [
      "/Users/zar/code/dataset-preprocessing/test-data\n",
      "     file   snippet\n",
      "0  test.c  nclude <\n",
      "     file  \\\n",
      "0  test.c   \n",
      "\n",
      "                                                                                      snippet  \n",
      "0  int main() {\\n    // Some code here\\n    int a = 10;\\n    int b = 20;\\n    \\n    \\n    pri  \n"
     ]
    }
   ],
   "source": [
    "# test code on test dataset (at /test-data/test.c)\n",
    "dataset_path = f'{os.getcwd()}/test-data'\n",
    "print(dataset_path)\n",
    "\n",
    "code_dataframes = []\n",
    "\n",
    "for vuln_c_file in os.listdir(dataset_path):\n",
    "    vuln_c_file_path = f'{dataset_path}/{vuln_c_file}'\n",
    "    if os.path.isfile(vuln_c_file_path) and vuln_c_file.endswith('.c'):\n",
    "        vuln_snippets = extract_vuln_code(vuln_c_file_path)\n",
    "        for df in vuln_snippets:\n",
    "            print(df)\n",
    "            "
   ]
  },
  {
   "cell_type": "code",
   "execution_count": 63,
   "metadata": {},
   "outputs": [
    {
     "name": "stdout",
     "output_type": "stream",
     "text": [
      "/Users/zar/code/dataset-preprocessing/data/Vulnerable\n"
     ]
    }
   ],
   "source": [
    "dataset_path = f'{os.getcwd()}/data/Vulnerable'\n",
    "print(dataset_path)\n",
    "flag = True\n",
    "code_snippets = []\n",
    "\n",
    "for vuln_c_file in os.listdir(dataset_path):\n",
    "    vuln_c_file_path = f'{dataset_path}/{vuln_c_file}'\n",
    "    if os.path.isfile(vuln_c_file_path) and vuln_c_file.endswith('.c'):\n",
    "        vuln_snippets = extract_vuln_code(vuln_c_file_path)\n",
    "        code_snippets.extend(vuln_snippets)\n",
    "\n",
    "code_dataframes = pd.concat(code_snippets, ignore_index=True)\n",
    "\n",
    "code_dataframes.to_csv('output.csv', index=False)\n",
    "\n",
    "# print dataframes\n",
    "#for df in vuln_snippets:\n",
    "#    print(df)"
   ]
  }
 ],
 "metadata": {
  "kernelspec": {
   "display_name": ".venv",
   "language": "python",
   "name": "python3"
  },
  "language_info": {
   "codemirror_mode": {
    "name": "ipython",
    "version": 3
   },
   "file_extension": ".py",
   "mimetype": "text/x-python",
   "name": "python",
   "nbconvert_exporter": "python",
   "pygments_lexer": "ipython3",
   "version": "3.10.16"
  }
 },
 "nbformat": 4,
 "nbformat_minor": 2
}
